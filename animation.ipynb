{
 "cells": [
  {
   "cell_type": "code",
   "execution_count": 2,
   "metadata": {},
   "outputs": [],
   "source": [
    "import cv2\n",
    "from evasion import *"
   ]
  },
  {
   "cell_type": "code",
   "execution_count": 26,
   "metadata": {},
   "outputs": [
    {
     "name": "stdout",
     "output_type": "stream",
     "text": [
      "160\n"
     ]
    }
   ],
   "source": [
    "sensors = [[[0,8],[0,18]], [[2,0],[18,0]], [[15,2],[15,12]]]\n",
    "sensorSpace = SensorsSpace((20,20), sensors)\n",
    "space = sensorSpace.createSpace()\n",
    "print(len(space))"
   ]
  },
  {
   "cell_type": "code",
   "execution_count": 27,
   "metadata": {},
   "outputs": [],
   "source": [
    "video = space.astype(float)\n",
    "\n",
    "n_frames, height, width = np.shape(video)\n",
    "newWidth = 800\n",
    "newHeight = int(height/width*newWidth)\n",
    "\n",
    "newVideo = []\n",
    "for f in range(n_frames):\n",
    "    newImage = np.reshape(video[f], (height, width, 1))\n",
    "    newImage = cv2.resize(newImage, (newWidth, newHeight))\n",
    "    newImage[newImage>0] = 1\n",
    "    newImage[0,:] = 1\n",
    "    newImage[-1,:] = 1\n",
    "    newImage[:,0] = 1\n",
    "    newImage[:,-1] = 1\n",
    "    newImage *= 255\n",
    "    \n",
    "    newVideo.append(newImage)\n",
    "newVideo = np.array(newVideo, dtype=np.uint8)\n",
    "newShape = np.shape(newVideo)\n",
    "# cv2.imshow('Image', newVideo[1])\n",
    "\n",
    "# # Wait for a key event and close the window when a key is pressed\n",
    "# cv2.waitKey(0)\n",
    "# cv2.destroyAllWindows()"
   ]
  },
  {
   "cell_type": "code",
   "execution_count": 28,
   "metadata": {},
   "outputs": [
    {
     "name": "stdout",
     "output_type": "stream",
     "text": [
      "Video created: output_video.avi\n"
     ]
    }
   ],
   "source": [
    "import cv2\n",
    "import numpy as np\n",
    "\n",
    "# Specify the video file name, codec, frames per second (fps), and resolution\n",
    "video_file = 'output_video.avi'\n",
    "codec = cv2.VideoWriter_fourcc(*'XVID')\n",
    "fps = 24.0\n",
    "resolution = (newShape[2], newShape[1])\n",
    "\n",
    "# Create a VideoWriter object\n",
    "video_writer = cv2.VideoWriter(video_file, codec, fps, resolution)\n",
    "\n",
    "videoSlower = 5\n",
    "# Generate frames (you can replace this with your own frames)\n",
    "for i in range(videoSlower*len(newVideo)):\n",
    "    #frame = np.ones((resolution[1], resolution[0], 3), dtype=np.uint8) * 255\n",
    "    # cv2.putText(frame, f'Frame {i}', (50, 50), cv2.FONT_HERSHEY_SIMPLEX, 1, (0, 0, 0), 2)\n",
    "    frame = np.repeat(newVideo[i//videoSlower][:, :, np.newaxis], 3, axis=2)\n",
    "    # print(np.shape(frame1))\n",
    "    # Write the frame to the video file\n",
    "    video_writer.write(frame)\n",
    "\n",
    "# Release the VideoWriter\n",
    "video_writer.release()\n",
    "\n",
    "print(f\"Video created: {video_file}\")\n"
   ]
  }
 ],
 "metadata": {
  "kernelspec": {
   "display_name": "Python 3",
   "language": "python",
   "name": "python3"
  },
  "language_info": {
   "codemirror_mode": {
    "name": "ipython",
    "version": 3
   },
   "file_extension": ".py",
   "mimetype": "text/x-python",
   "name": "python",
   "nbconvert_exporter": "python",
   "pygments_lexer": "ipython3",
   "version": "3.10.12"
  }
 },
 "nbformat": 4,
 "nbformat_minor": 2
}
