{
 "cells": [
  {
   "cell_type": "code",
   "execution_count": 2,
   "metadata": {},
   "outputs": [],
   "source": [
    "import numpy as np\n",
    "import cv2"
   ]
  },
  {
   "cell_type": "code",
   "execution_count": 3,
   "metadata": {},
   "outputs": [],
   "source": [
    "# največji skupni deljitel\n",
    "def gcd(a, b):\n",
    "    while b:\n",
    "        a, b = b, a % b\n",
    "    return a\n",
    "\n",
    "# najmanjši skupni večkratnik\n",
    "def lcm(a, b):\n",
    "    return abs(a * b) // gcd(a, b)\n",
    "\n",
    "# najmanši skupni večkratnik večih števil\n",
    "def smallest_common_multiple(numbers):\n",
    "    result = 1\n",
    "    for num in numbers:\n",
    "        result = lcm(result, num)\n",
    "    return result\n",
    "\n",
    "class SimpleSensor:\n",
    "    def __init__(self, spaceDim, start, stop): # start stop naj bosta [*, 0], [*, 0] ali [0, *], [0, *]\n",
    "        self.start = np.array(start)\n",
    "        self.stop = np.array(stop)\n",
    "        self.spaceDim = spaceDim\n",
    "        self.timePeriod = 2*np.max(np.abs(self.start - self.stop))\n",
    "\n",
    "    def getSensorArea(self):\n",
    "        if self.start[0] == self.stop[0]:\n",
    "            direction = np.array([0, 1])*(((self.start[1] - self.stop[1])<0)*2-1)\n",
    "        elif self.start[1] == self.stop[1]:\n",
    "            direction = np.array([1, 0])*(((self.start[0] - self.stop[0])<0)*2-1)\n",
    "        space = np.zeros((self.timePeriod, *self.spaceDim))\n",
    "        rangee = int(self.timePeriod/2)\n",
    "        for t in range(rangee+1):\n",
    "            y, x = self.start + t*direction\n",
    "            space[t][y][x] = 1\n",
    "            space[t][y][x+1] = 1\n",
    "            space[t][y+1][x] = 1\n",
    "            space[t][y+1][x+1] = 1\n",
    "        for t in range(0, rangee-1):\n",
    "            y, x = self.stop - (t+1)*direction\n",
    "            space[rangee+1 + t][y][x] = 1\n",
    "            space[rangee+1 + t][y][x+1] = 1\n",
    "            space[rangee+1 + t][y+1][x] = 1\n",
    "            space[rangee+1 + t][y+1][x+1] = 1\n",
    "        return space\n",
    "\n",
    "# Vzame seznam začetekov in koncev senzorjev ter jih združi v en prostor\n",
    "class SensorsSpace:\n",
    "    def __init__(self, spaceDim, sensorStartStopList):\n",
    "        self.sensorStartStopList = sensorStartStopList # [[[startX,startY],[stopX,*]], [[*,*],[*,*]], [[*,*],[*,*]] ]\n",
    "        self.spaceDim = spaceDim #[*,*]\n",
    "        self.sensors = []\n",
    "        self.getCommonTimePeriod()\n",
    "\n",
    "    def getCommonTimePeriod(self):\n",
    "        periods = []\n",
    "        for startStop in self.sensorStartStopList:\n",
    "            sensor = SimpleSensor(self.spaceDim, startStop[0], startStop[1])\n",
    "            self.sensors.append(sensor)\n",
    "            periods.append(sensor.timePeriod)\n",
    "\n",
    "        self.timePeriod = smallest_common_multiple(periods)\n",
    "\n",
    "    def createSpace(self):\n",
    "        space = np.zeros((self.timePeriod, *self.spaceDim))\n",
    "        for sensor in self.sensors:\n",
    "            n_roundtrips = int(self.timePeriod/sensor.timePeriod)\n",
    "            \n",
    "            space += np.tile(sensor.getSensorArea(), (n_roundtrips, 1, 1))\n",
    "        return space > 0"
   ]
  },
  {
   "cell_type": "code",
   "execution_count": 26,
   "metadata": {},
   "outputs": [
    {
     "name": "stdout",
     "output_type": "stream",
     "text": [
      "160\n"
     ]
    }
   ],
   "source": [
    "sensors = [[[0,8],[0,18]], [[2,0],[18,0]], [[15,2],[15,12]]]\n",
    "sensorSpace = SensorsSpace((20,20), sensors)\n",
    "space = sensorSpace.createSpace()\n",
    "print(len(space))"
   ]
  },
  {
   "cell_type": "code",
   "execution_count": 27,
   "metadata": {},
   "outputs": [],
   "source": [
    "video = space.astype(float)\n",
    "\n",
    "n_frames, height, width = np.shape(video)\n",
    "newWidth = 800\n",
    "newHeight = int(height/width*newWidth)\n",
    "\n",
    "newVideo = []\n",
    "for f in range(n_frames):\n",
    "    newImage = np.reshape(video[f], (height, width, 1))\n",
    "    newImage = cv2.resize(newImage, (newWidth, newHeight))\n",
    "    newImage[newImage>0] = 1\n",
    "    newImage[0,:] = 1\n",
    "    newImage[-1,:] = 1\n",
    "    newImage[:,0] = 1\n",
    "    newImage[:,-1] = 1\n",
    "    newImage *= 255\n",
    "    \n",
    "    newVideo.append(newImage)\n",
    "newVideo = np.array(newVideo, dtype=np.uint8)\n",
    "newShape = np.shape(newVideo)\n",
    "# cv2.imshow('Image', newVideo[1])\n",
    "\n",
    "# # Wait for a key event and close the window when a key is pressed\n",
    "# cv2.waitKey(0)\n",
    "# cv2.destroyAllWindows()"
   ]
  },
  {
   "cell_type": "code",
   "execution_count": 28,
   "metadata": {},
   "outputs": [
    {
     "name": "stdout",
     "output_type": "stream",
     "text": [
      "Video created: output_video.avi\n"
     ]
    }
   ],
   "source": [
    "import cv2\n",
    "import numpy as np\n",
    "\n",
    "# Specify the video file name, codec, frames per second (fps), and resolution\n",
    "video_file = 'output_video.avi'\n",
    "codec = cv2.VideoWriter_fourcc(*'XVID')\n",
    "fps = 24.0\n",
    "resolution = (newShape[2], newShape[1])\n",
    "\n",
    "# Create a VideoWriter object\n",
    "video_writer = cv2.VideoWriter(video_file, codec, fps, resolution)\n",
    "\n",
    "videoSlower = 5\n",
    "# Generate frames (you can replace this with your own frames)\n",
    "for i in range(videoSlower*len(newVideo)):\n",
    "    #frame = np.ones((resolution[1], resolution[0], 3), dtype=np.uint8) * 255\n",
    "    # cv2.putText(frame, f'Frame {i}', (50, 50), cv2.FONT_HERSHEY_SIMPLEX, 1, (0, 0, 0), 2)\n",
    "    frame = np.repeat(newVideo[i//videoSlower][:, :, np.newaxis], 3, axis=2)\n",
    "    # print(np.shape(frame1))\n",
    "    # Write the frame to the video file\n",
    "    video_writer.write(frame)\n",
    "\n",
    "# Release the VideoWriter\n",
    "video_writer.release()\n",
    "\n",
    "print(f\"Video created: {video_file}\")\n"
   ]
  }
 ],
 "metadata": {
  "kernelspec": {
   "display_name": "Python 3",
   "language": "python",
   "name": "python3"
  },
  "language_info": {
   "codemirror_mode": {
    "name": "ipython",
    "version": 3
   },
   "file_extension": ".py",
   "mimetype": "text/x-python",
   "name": "python",
   "nbconvert_exporter": "python",
   "pygments_lexer": "ipython3",
   "version": "3.10.12"
  }
 },
 "nbformat": 4,
 "nbformat_minor": 2
}
