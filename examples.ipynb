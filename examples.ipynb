{
 "cells": [
  {
   "cell_type": "code",
   "execution_count": 1,
   "id": "initial_id",
   "metadata": {
    "collapsed": true,
    "ExecuteTime": {
     "end_time": "2024-01-01T12:47:46.903912Z",
     "start_time": "2024-01-01T12:47:45.759915600Z"
    }
   },
   "outputs": [],
   "source": [
    "from findPaths import *\n",
    "from tree_search import *"
   ]
  },
  {
   "cell_type": "markdown",
   "source": [
    "# Example from pdf"
   ],
   "metadata": {
    "collapsed": false
   },
   "id": "f7824fffca940fc5"
  },
  {
   "cell_type": "code",
   "outputs": [
    {
     "name": "stdout",
     "output_type": "stream",
     "text": [
      "[[[False False  True ... False False  True]\n",
      "  [False False  True ... False False  True]\n",
      "  [ True  True  True ...  True  True  True]\n",
      "  ...\n",
      "  [ True  True False ...  True False False]\n",
      "  [ True  True  True ...  True  True  True]\n",
      "  [ True  True  True ...  True  True  True]]\n",
      "\n",
      " [[ True  True  True ...  True False False]\n",
      "  [False False  True ...  True False False]\n",
      "  [False False  True ...  True  True  True]\n",
      "  ...\n",
      "  [ True  True  True ... False False False]\n",
      "  [ True  True False ...  True False False]\n",
      "  [ True  True False ...  True  True  True]]\n",
      "\n",
      " [[ True  True  True ... False False  True]\n",
      "  [ True  True  True ... False False  True]\n",
      "  [False False False ...  True  True  True]\n",
      "  ...\n",
      "  [ True  True  True ...  True  True  True]\n",
      "  [ True False False ...  True False False]\n",
      "  [ True False False ...  True False False]]\n",
      "\n",
      " ...\n",
      "\n",
      " [[ True  True False ...  True  True  True]\n",
      "  [ True  True False ...  True  True  True]\n",
      "  [ True  True  True ...  True  True  True]\n",
      "  ...\n",
      "  [ True  True  True ... False  True  True]\n",
      "  [ True  True False ...  True  True  True]\n",
      "  [ True  True False ...  True  True  True]]\n",
      "\n",
      " [[ True  True  True ...  True  True  True]\n",
      "  [ True  True  True ...  True  True  True]\n",
      "  [False False False ...  True False False]\n",
      "  ...\n",
      "  [ True  True  True ...  True  True  True]\n",
      "  [ True  True  True ...  True  True  True]\n",
      "  [ True  True  True ...  True  True  True]]\n",
      "\n",
      " [[ True  True  True ... False  True  True]\n",
      "  [False False  True ... False  True  True]\n",
      "  [False False  True ... False  True  True]\n",
      "  ...\n",
      "  [ True  True  True ...  True  True  True]\n",
      "  [ True  True  True ... False  True  True]\n",
      "  [ True  True  True ... False  True  True]]]\n"
     ]
    }
   ],
   "source": [
    "dim = (8, 8)\n",
    "endpoints = [[0, 0], [5, 0]]\n",
    "start_pos = [0, 0]\n",
    "start_dir = [1, 0]\n",
    "sens_1 = DirectionalSensor(dim, endpoints, start_pos, start_dir)\n",
    "\n",
    "endpoints = [[0, 1], [0, 6]]\n",
    "start_pos = [0, 5]\n",
    "start_dir = [0, 1]\n",
    "sens_2 = DirectionalSensor(dim, endpoints, start_pos, start_dir)\n",
    "\n",
    "endpoints = [[2, 2], [4, 2]]\n",
    "start_pos = [4, 2]\n",
    "start_dir = [-1, 0]\n",
    "sens_3 = DirectionalSensor(dim, endpoints, start_pos, start_dir)\n",
    "\n",
    "endpoints = [[2, 4], [4, 4]]\n",
    "start_pos = [3, 4]\n",
    "start_dir = [1, 0]\n",
    "sens_4 = DirectionalSensor(dim, endpoints, start_pos, start_dir)\n",
    "\n",
    "endpoints = [[2, 6], [6, 6]]\n",
    "start_pos = [4, 6]\n",
    "start_dir = [1, 0]\n",
    "sens_5 = DirectionalSensor(dim, endpoints, start_pos, start_dir)\n",
    "\n",
    "endpoints = [[6, 0], [6, 4]]\n",
    "start_pos = [6, 3]\n",
    "start_dir = [0, -1]\n",
    "sens_6 = DirectionalSensor(dim, endpoints, start_pos, start_dir)\n",
    "\n",
    "sensors = [sens_1, sens_2, sens_3, sens_4, sens_5, sens_6]\n",
    "period = smallest_common_multiple([sensor.timePeriod for sensor in sensors])\n",
    "all_nodes, locs = build_node_tree(sensors, period=period, grid_size=8)\n",
    "space = constructSpace(sensors, period, dim=8)\n",
    "print(space)"
   ],
   "metadata": {
    "collapsed": false,
    "ExecuteTime": {
     "end_time": "2024-01-01T12:48:51.026309200Z",
     "start_time": "2024-01-01T12:48:51.009309100Z"
    }
   },
   "id": "2ddd8375918b18a7",
   "execution_count": 6
  },
  {
   "cell_type": "markdown",
   "source": [
    "# Compute the paths using the topological search"
   ],
   "metadata": {
    "collapsed": false
   },
   "id": "bf23ccec1a034bd1"
  },
  {
   "cell_type": "code",
   "outputs": [],
   "source": [
    "paths = narrowPaths(space, onePath=True)\n",
    "print(f\"Number of paths found {len(paths)}\")\n",
    "pathId = 1\n",
    "if len(paths) > 0:\n",
    "    pathCoords = paths[pathId]\n",
    "    visualize_space(space, pathCoords)\n",
    "    visualize(locs, pathCoords, grid_size=8)"
   ],
   "metadata": {
    "collapsed": false,
    "is_executing": true,
    "ExecuteTime": {
     "start_time": "2024-01-01T12:49:13.272898700Z"
    }
   },
   "id": "1ed4d13a906064b9",
   "execution_count": null
  },
  {
   "cell_type": "markdown",
   "source": [
    "# Examples from Testing"
   ],
   "metadata": {
    "collapsed": false
   },
   "id": "5f90d006d0fcd0f2"
  },
  {
   "cell_type": "code",
   "outputs": [
    {
     "name": "stdout",
     "output_type": "stream",
     "text": [
      "Number of paths found:  1\n"
     ]
    }
   ],
   "source": [
    "spaceShape = (7,10,9)\n",
    "space = np.ones(spaceShape, dtype=bool)\n",
    "space[0,1,0] = 0\n",
    "space[0,1,1] = 0\n",
    "space[0,0,0] = 0\n",
    "space[1,1:9,0] = 0\n",
    "space[2,8,0:7] = 0\n",
    "space[3,1:9,6] = 0\n",
    "space[3,1,1:7] = 0\n",
    "space[4,1:9,1] = 0\n",
    "space[4:,8,1] = 0\n",
    "space[6,1:8,1] = 0\n",
    "space[6,1,0] = 0\n",
    "space[:, 4, 7] = 0\n",
    "\n",
    "# compute all paths\n",
    "paths = narrowPaths(space, onePath=True)\n",
    "print(\"Number of paths found: \", len(paths))\n",
    "if len(paths) > 0:\n",
    "    specialCoords = paths[0]\n",
    "    visualize_space(space, specialCoords)"
   ],
   "metadata": {
    "collapsed": false,
    "ExecuteTime": {
     "end_time": "2024-01-01T12:48:42.998297200Z",
     "start_time": "2024-01-01T12:48:24.144911600Z"
    }
   },
   "id": "dc9d7f91bce2efa5",
   "execution_count": 5
  }
 ],
 "metadata": {
  "kernelspec": {
   "display_name": "Python 3",
   "language": "python",
   "name": "python3"
  },
  "language_info": {
   "codemirror_mode": {
    "name": "ipython",
    "version": 2
   },
   "file_extension": ".py",
   "mimetype": "text/x-python",
   "name": "python",
   "nbconvert_exporter": "python",
   "pygments_lexer": "ipython2",
   "version": "2.7.6"
  }
 },
 "nbformat": 4,
 "nbformat_minor": 5
}
